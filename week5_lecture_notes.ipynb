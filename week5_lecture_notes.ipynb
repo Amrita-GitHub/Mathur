{
  "cells": [
    {
      "cell_type": "markdown",
      "metadata": {
        "id": "view-in-github",
        "colab_type": "text"
      },
      "source": [
        "<a href=\"https://colab.research.google.com/github/Amrita-GitHub/Mathur/blob/main/week5_lecture_notes.ipynb\" target=\"_parent\"><img src=\"https://colab.research.google.com/assets/colab-badge.svg\" alt=\"Open In Colab\"/></a>"
      ]
    },
    {
      "cell_type": "markdown",
      "metadata": {
        "id": "bPqX0Bv1rEhy"
      },
      "source": [
        "# Week5: Introduction to the Numpy Library\n",
        "\n",
        "## Introduction\n",
        "\n",
        "Welcome, students. In today's lecture, we will embark on a comprehensive exploration of **NumPy**—a foundational library in Python for numerical computing. Up to now, you have become comfortable with basic Python data structures such as lists, tuples, dictionaries, and sets, as well as control flows, functions, and variables. While these built-in data structures are versatile and well-suited for general programming tasks, they have limitations when it comes to efficiently handling large-scale numerical data and performing complex mathematical operations. This is where NumPy comes in, offering enhanced performance, memory efficiency, and a rich collection of functions designed specifically for numerical operations.\n",
        "\n",
        "## Situating NumPy Among Built-In Data Structures\n",
        "\n",
        "Before delving into NumPy, let us briefly revisit the Python data structures you are already familiar with:\n",
        "\n",
        "- **Lists and Tuples:**  \n",
        "  These are ordered collections that can store items of different data types. However, they are not optimized for numerical computations, particularly when working with large datasets.\n",
        "\n",
        "- **Dictionaries:**  \n",
        "  While extremely useful for mapping keys to values, dictionaries are not designed for element-wise arithmetic operations or handling multi-dimensional data.\n",
        "\n",
        "- **Sets:**  \n",
        "  Sets are useful for storing unique items, but they lack ordering and do not support indexed operations, which are critical in numerical analysis.\n",
        "\n",
        "In contrast, **NumPy arrays** are designed with the following advantages:\n",
        "\n",
        "- **Homogeneous Data Types:**  \n",
        "  Unlike lists or tuples, NumPy arrays require that all elements be of the same type. This homogeneity allows for optimized memory usage and faster computations.\n",
        "\n",
        "- **Vectorized Operations:**  \n",
        "  NumPy supports operations on entire arrays without the need for explicit loops. This feature, known as vectorization, leads to significant performance improvements.\n",
        "\n",
        "- **Multi-dimensional Arrays:**  \n",
        "  NumPy naturally handles arrays of two or more dimensions, making it ideal for representing matrices and tensors that frequently appear in business analytics and data science.\n",
        "\n",
        "- **Broad Functionality:**  \n",
        "  From statistical computations to linear algebra, NumPy provides an extensive suite of mathematical tools essential for robust data analysis.\n",
        "\n",
        "## Installing and Setting Up NumPy\n",
        "\n",
        "### Installing NumPy Locally\n",
        "\n",
        "If you are working on your local machine, you can install NumPy via pip:\n",
        "\n",
        "```bash\n",
        "pip install numpy\n",
        "```\n",
        "\n",
        "Ensure that you are using the appropriate Python environment where your projects are maintained.\n",
        "\n",
        "### Using NumPy in Google Colab\n",
        "\n",
        "Google Colab is a convenient platform for running Python notebooks, and it comes with NumPy pre-installed. To verify your NumPy installation in Colab, simply execute:"
      ]
    },
    {
      "cell_type": "code",
      "metadata": {
        "colab": {
          "base_uri": "https://localhost:8080/"
        },
        "id": "bp935jBKrEhz",
        "outputId": "710a5593-c3ab-445a-83f2-b0c98fac96bf"
      },
      "source": [
        "import numpy as np\n",
        "print(\"NumPy version:\", np.__version__)"
      ],
      "execution_count": null,
      "outputs": [
        {
          "output_type": "stream",
          "name": "stdout",
          "text": [
            "NumPy version: 1.26.4\n"
          ]
        }
      ]
    },
    {
      "cell_type": "markdown",
      "metadata": {
        "id": "fKQ9UObIrEh0"
      },
      "source": [
        "This command will display the version of NumPy installed on the platform.\n",
        "\n",
        "## Importing NumPy in Your Notebooks\n",
        "\n",
        "Regardless of the environment, begin your notebooks by importing NumPy with the commonly used alias `np`:"
      ]
    },
    {
      "cell_type": "code",
      "metadata": {
        "id": "D3dG5UJsrEh0"
      },
      "source": [
        "import numpy as np"
      ],
      "execution_count": null,
      "outputs": []
    },
    {
      "cell_type": "markdown",
      "metadata": {
        "id": "pDxVR68jrEh0"
      },
      "source": [
        "This aliasing not only saves time but also improves code readability, particularly when using NumPy’s extensive functionality.\n",
        "\n",
        "# Creating NumPy Data Structures\n",
        "\n",
        "NumPy offers several methods for creating arrays, each catering to different needs.\n",
        "\n",
        "## Creating Arrays from Lists or Tuples\n",
        "\n",
        "You can convert Python lists or tuples directly into NumPy arrays:"
      ]
    },
    {
      "cell_type": "code",
      "metadata": {
        "colab": {
          "base_uri": "https://localhost:8080/"
        },
        "id": "vjKa6kHirEh0",
        "outputId": "c6b2f4b4-f91c-43ed-a209-645c10cfa752"
      },
      "source": [
        "# From a list\n",
        "sales_list = [250, 300, 450, 500, 350]\n",
        "sales_array = np.array(sales_list)\n",
        "print(\"Sales Array:\", sales_array)\n",
        "\n",
        "# From a tuple\n",
        "inventory_tuple = (10, 15, 20)\n",
        "inventory_array = np.array(inventory_tuple)\n",
        "print(\"Inventory Array:\", inventory_array)"
      ],
      "execution_count": null,
      "outputs": [
        {
          "output_type": "stream",
          "name": "stdout",
          "text": [
            "Sales Array: [250 300 450 500 350]\n",
            "Inventory Array: [10 15 20]\n"
          ]
        }
      ]
    },
    {
      "cell_type": "markdown",
      "metadata": {
        "id": "_DYy3m7ArEh0"
      },
      "source": [
        "## Generating Arrays with Built-In Functions\n",
        "\n",
        "NumPy provides functions to generate arrays without needing pre-existing data:\n",
        "\n",
        "- **`np.arange(start, stop, step)`**  \n",
        "  Creates arrays with evenly spaced values."
      ]
    },
    {
      "cell_type": "code",
      "metadata": {
        "md-indent": "  ",
        "colab": {
          "base_uri": "https://localhost:8080/"
        },
        "id": "sUj2ZxN5rEh0",
        "outputId": "b35d1fe6-96e9-4dba-d496-b0a573852de0"
      },
      "source": [
        "days = np.arange(1, 8)  # Days 1 to 7\n",
        "print(\"Days:\", days)"
      ],
      "execution_count": null,
      "outputs": [
        {
          "output_type": "stream",
          "name": "stdout",
          "text": [
            "Days: [1 2 3 4 5 6 7]\n"
          ]
        }
      ]
    },
    {
      "cell_type": "markdown",
      "metadata": {
        "id": "WnqyKvg3rEh0"
      },
      "source": [
        "- **`np.linspace(start, stop, num)`**  \n",
        "  Creates arrays with a specified number of evenly spaced values between two numbers."
      ]
    },
    {
      "cell_type": "code",
      "metadata": {
        "md-indent": "  ",
        "colab": {
          "base_uri": "https://localhost:8080/"
        },
        "id": "b8RnEh8BrEh0",
        "outputId": "bec1c238-6527-4928-dbf3-f3b7bde41873"
      },
      "source": [
        "prices = np.linspace(10, 100, 10)  # 10 prices from 10 to 100\n",
        "print(\"Prices:\", prices)"
      ],
      "execution_count": null,
      "outputs": [
        {
          "output_type": "stream",
          "name": "stdout",
          "text": [
            "Prices: [ 10.  20.  30.  40.  50.  60.  70.  80.  90. 100.]\n"
          ]
        }
      ]
    },
    {
      "cell_type": "markdown",
      "metadata": {
        "id": "JDpfxEqJrEh1"
      },
      "source": [
        "<!--\n",
        "*The following examples using np.zeros and np.eye were in the original notes but have been replaced by advanced slicing topics per the updated practice questions.\n",
        "-->\n",
        "\n",
        "# Accessing Elements in NumPy Arrays\n",
        "\n",
        "Once you have created an array, accessing its elements is both intuitive and efficient.\n",
        "\n",
        "## Indexing and Slicing in One-Dimensional Arrays"
      ]
    },
    {
      "cell_type": "code",
      "metadata": {
        "colab": {
          "base_uri": "https://localhost:8080/"
        },
        "id": "h8Lb1ewWrEh1",
        "outputId": "7c256ce0-d745-47a6-be77-9642413de4b0"
      },
      "source": [
        "data = np.array([10, 20, 30, 40, 50])\n",
        "# Accessing individual elements\n",
        "print(\"First element:\", data[0])\n",
        "print(\"Last element:\", data[-1])\n",
        "\n",
        "# Slicing: extracting sub-arrays\n",
        "print(\"Elements from index 1 to 3:\", data[1:4])"
      ],
      "execution_count": null,
      "outputs": [
        {
          "output_type": "stream",
          "name": "stdout",
          "text": [
            "First element: 10\n",
            "Last element: 50\n",
            "Elements from index 1 to 3: [20 30 40]\n"
          ]
        }
      ]
    },
    {
      "cell_type": "markdown",
      "metadata": {
        "id": "Bs38EUt5rEh1"
      },
      "source": [
        "### Advanced Slicing in 1D Arrays (Using Step Values)\n",
        "\n",
        "Advanced slicing allows you to extract elements using a step parameter. For example:"
      ]
    },
    {
      "cell_type": "code",
      "metadata": {
        "colab": {
          "base_uri": "https://localhost:8080/"
        },
        "id": "ZD5TCrr2rEh1",
        "outputId": "4dd0af23-fced-469a-c1ca-ee23a81ccaf9"
      },
      "source": [
        "# Given a 1D array, extract every second element.\n",
        "arr = np.array([10, 20, 30, 40, 50, 60])\n",
        "# Use the slicing syntax arr[start:stop:step]\n",
        "print(\"Every second element:\", arr[::2])"
      ],
      "execution_count": null,
      "outputs": [
        {
          "output_type": "stream",
          "name": "stdout",
          "text": [
            "Every second element: [10 30 50]\n"
          ]
        }
      ]
    },
    {
      "cell_type": "markdown",
      "metadata": {
        "id": "BxAmZZ4ArEh1"
      },
      "source": [
        "## Multi-Dimensional Array Indexing\n",
        "\n",
        "For two-dimensional or higher arrays, indexing follows a similar pattern:"
      ]
    },
    {
      "cell_type": "code",
      "metadata": {
        "colab": {
          "base_uri": "https://localhost:8080/"
        },
        "id": "zPgknD1HrEh1",
        "outputId": "3d2786c7-baff-4f1e-e77c-b614a4173942"
      },
      "source": [
        "matrix = np.array([[1, 2, 3],\n",
        "                   [4, 5, 6],\n",
        "                   [7, 8, 9]])\n",
        "# Accessing an element (row 2, column 3)\n",
        "print(\"Element at row 2, column 3:\", matrix[1, 2])\n",
        "\n",
        "# Slicing rows and columns\n",
        "print(\"First two rows:\\n\", matrix[:2, :])\n",
        "print(\"Second column:\\n\", matrix[:, 1])"
      ],
      "execution_count": null,
      "outputs": [
        {
          "output_type": "stream",
          "name": "stdout",
          "text": [
            "Element at row 2, column 3: 6\n",
            "First two rows:\n",
            " [[1 2 3]\n",
            " [4 5 6]]\n",
            "Second column:\n",
            " [2 5 8]\n"
          ]
        }
      ]
    },
    {
      "cell_type": "markdown",
      "metadata": {
        "id": "kMZ_6jk-rEh1"
      },
      "source": [
        "### Advanced Slicing in 2D Arrays (Extracting Submatrices)\n",
        "\n",
        "In addition to basic indexing, you can extract submatrices by combining row and column slicing. For example:"
      ]
    },
    {
      "cell_type": "code",
      "metadata": {
        "colab": {
          "base_uri": "https://localhost:8080/"
        },
        "id": "M-aLMIc6rEh1",
        "outputId": "3c5927c2-5f14-4fd7-9796-73961f5bd59c"
      },
      "source": [
        "# Given a 2D array A, extract the submatrix consisting of the first two rows and the last two columns.\n",
        "A = np.array([\n",
        "    [1, 2, 3, 4],\n",
        "    [5, 6, 7, 8],\n",
        "    [9, 10, 11, 12]\n",
        "])\n",
        "# Use combined slicing: rows 0 and 1, and the last two columns.\n",
        "submatrix = A[:2, -2:]\n",
        "print(\"Submatrix (first two rows, last two columns):\\n\", submatrix)"
      ],
      "execution_count": null,
      "outputs": [
        {
          "output_type": "stream",
          "name": "stdout",
          "text": [
            "Submatrix (first two rows, last two columns):\n",
            " [[3 4]\n",
            " [7 8]]\n"
          ]
        }
      ]
    },
    {
      "cell_type": "markdown",
      "metadata": {
        "id": "k2rHezoGrEh1"
      },
      "source": [
        "# Processing Data in NumPy Arrays\n",
        "\n",
        "One of the major advantages of NumPy is its ability to process data efficiently.\n",
        "\n",
        "## Vectorized Operations\n",
        "\n",
        "Vectorized operations allow you to perform element-wise arithmetic without explicit loops:"
      ]
    },
    {
      "cell_type": "code",
      "metadata": {
        "colab": {
          "base_uri": "https://localhost:8080/"
        },
        "id": "MLO3OIhTrEh1",
        "outputId": "2e2801c8-373b-4b81-ea85-f502555b77f2"
      },
      "source": [
        "# Suppose we have an array of sales figures\n",
        "sales = np.array([100, 150, 200, 250, 300])\n",
        "# Applying a 10% discount using vectorized multiplication\n",
        "discounted_sales = sales * 0.90\n",
        "print(\"Discounted Sales:\", discounted_sales)"
      ],
      "execution_count": null,
      "outputs": [
        {
          "output_type": "stream",
          "name": "stdout",
          "text": [
            "Discounted Sales: [ 90. 135. 180. 225. 270.]\n"
          ]
        }
      ]
    },
    {
      "cell_type": "markdown",
      "metadata": {
        "id": "hoJ7TGXFrEh1"
      },
      "source": [
        "## Using Loops with NumPy Arrays\n",
        "\n",
        "Although vectorized operations are preferred, you can still use loops for more complex logic. Note, however, that loops tend to be less efficient:"
      ]
    },
    {
      "cell_type": "code",
      "metadata": {
        "colab": {
          "base_uri": "https://localhost:8080/"
        },
        "id": "Lw_q3HAGrEh1",
        "outputId": "d5ee4967-6a46-4657-d4f6-d823408202eb"
      },
      "source": [
        "# Increment each element by 5 using a loop\n",
        "incremented_sales = np.empty_like(sales)\n",
        "for i in range(len(sales)):\n",
        "    incremented_sales[i] = sales[i] + 5\n",
        "print(\"Incremented Sales:\", incremented_sales)"
      ],
      "execution_count": null,
      "outputs": [
        {
          "output_type": "stream",
          "name": "stdout",
          "text": [
            "Incremented Sales: [105 155 205 255 305]\n"
          ]
        }
      ]
    },
    {
      "cell_type": "markdown",
      "metadata": {
        "id": "9fH1C31LrEh1"
      },
      "source": [
        "## Applying Lambda Functions and `np.vectorize`\n",
        "\n",
        "You can use lambda functions to define custom operations. NumPy’s `np.vectorize` can then apply these functions to each element:"
      ]
    },
    {
      "cell_type": "code",
      "metadata": {
        "colab": {
          "base_uri": "https://localhost:8080/"
        },
        "id": "gTH-s3iDrEh1",
        "outputId": "92ac73ea-1570-44cf-ce50-aa20f60b9172"
      },
      "source": [
        "# Define a lambda function to convert sales to revenue (assume price = $19.99)\n",
        "convert_to_revenue = lambda x: x * 19.99\n",
        "vectorized_conversion = np.vectorize(convert_to_revenue)\n",
        "revenues = vectorized_conversion(sales)\n",
        "print(\"Revenues:\", revenues)"
      ],
      "execution_count": null,
      "outputs": [
        {
          "output_type": "stream",
          "name": "stdout",
          "text": [
            "Revenues: [1999.  2998.5 3998.  4997.5 5997. ]\n"
          ]
        }
      ]
    },
    {
      "cell_type": "markdown",
      "metadata": {
        "id": "tBwCK0wUrEh1"
      },
      "source": [
        "## Mapping, Filtering, and Reducing Data\n",
        "\n",
        "### Filtering with Boolean Indexing\n",
        "\n",
        "Boolean indexing is an extremely powerful tool in NumPy that enables you to filter arrays based on one or more conditions. For example:"
      ]
    },
    {
      "cell_type": "code",
      "metadata": {
        "colab": {
          "base_uri": "https://localhost:8080/"
        },
        "id": "D4kDc6MArEh1",
        "outputId": "62e647bb-dae2-4588-9999-665dc93ee3c8"
      },
      "source": [
        "# Sample array of sales figures\n",
        "sales = np.array([100, 150, 200, 250, 300, 350, 400])\n",
        "\n",
        "# Filter sales greater than 200\n",
        "high_sales = sales[sales > 200]\n",
        "print(\"High Sales (greater than 200):\", high_sales)\n",
        "\n",
        "# Filter sales between 150 and 350 (inclusive)\n",
        "sales_between = sales[(sales >= 150) & (sales <= 350)]\n",
        "print(\"Sales between 150 and 350:\", sales_between)\n",
        "\n",
        "# Filter sales that are either less than 150 or greater than 350 using np.logical_or\n",
        "extreme_sales = sales[np.logical_or(sales < 150, sales > 350)]\n",
        "print(\"Sales less than 150 or greater than 350:\", extreme_sales)\n",
        "\n",
        "# Using np.where to obtain the indices of sales greater than 250\n",
        "indices = np.where(sales > 250)\n",
        "print(\"Indices where sales are greater than 250:\", indices)\n",
        "print(\"Sales values at these indices:\", sales[indices])\n",
        "\n",
        "# Filter sales using np.extract (similar to np.where but directly returns values)\n",
        "extracted_sales = np.extract(sales > 250, sales)\n",
        "print(\"Extracted sales (greater than 250):\", extracted_sales)"
      ],
      "execution_count": null,
      "outputs": [
        {
          "output_type": "stream",
          "name": "stdout",
          "text": [
            "High Sales (greater than 200): [250 300 350 400]\n",
            "Sales between 150 and 350: [150 200 250 300 350]\n",
            "Sales less than 150 or greater than 350: [100 400]\n",
            "Indices where sales are greater than 250: (array([4, 5, 6]),)\n",
            "Sales values at these indices: [300 350 400]\n",
            "Extracted sales (greater than 250): [300 350 400]\n"
          ]
        }
      ]
    },
    {
      "cell_type": "markdown",
      "metadata": {
        "id": "woxHhpglrEh1"
      },
      "source": [
        "### Traversing Data Using Loops and Lambda Functions\n",
        "\n",
        "Traversing a NumPy array can be done with simple loops or with lambda functions in conjunction with vectorized operations.\n",
        "\n",
        "#### Using Loops and Iterators"
      ]
    },
    {
      "cell_type": "code",
      "metadata": {
        "colab": {
          "base_uri": "https://localhost:8080/"
        },
        "id": "d9iZREaxrEh1",
        "outputId": "c1a3c869-588a-405b-e83a-90f1d307c0fd"
      },
      "source": [
        "# Traversing using np.nditer\n",
        "print(\"Traversing sales using np.nditer:\")\n",
        "for value in np.nditer(sales):\n",
        "    print(\"Sales value:\", value)"
      ],
      "execution_count": null,
      "outputs": [
        {
          "output_type": "stream",
          "name": "stdout",
          "text": [
            "Traversing sales using np.nditer:\n",
            "Sales value: 100\n",
            "Sales value: 150\n",
            "Sales value: 200\n",
            "Sales value: 250\n",
            "Sales value: 300\n",
            "Sales value: 350\n",
            "Sales value: 400\n"
          ]
        }
      ]
    },
    {
      "cell_type": "markdown",
      "metadata": {
        "id": "7kO7x0NBrEh1"
      },
      "source": [
        "#### Using Lambda Functions\n",
        "\n",
        "While lambda functions are not typically used for traversing arrays element-by-element (as vectorized operations are preferred), you can still apply them using functions such as `np.vectorize` or `np.apply_along_axis`.\n",
        "\n",
        "**Example 1: Using np.vectorize to apply a lambda function element-wise**"
      ]
    },
    {
      "cell_type": "code",
      "metadata": {
        "colab": {
          "base_uri": "https://localhost:8080/"
        },
        "id": "xeM4qVYirEh1",
        "outputId": "feec68e5-ab03-4b2d-e834-3f522873268d"
      },
      "source": [
        "# Define a lambda function to add a fixed commission (e.g., $10) to each sale\n",
        "add_commission = lambda x: x + 10\n",
        "\n",
        "# Vectorize the lambda function to apply it to each element of the array\n",
        "vectorized_add = np.vectorize(add_commission)\n",
        "commissioned_sales = vectorized_add(sales)\n",
        "print(\"Sales after adding commission:\", commissioned_sales)"
      ],
      "execution_count": null,
      "outputs": [
        {
          "output_type": "stream",
          "name": "stdout",
          "text": [
            "Sales after adding commission: [110 160 210 260 310 360 410]\n"
          ]
        }
      ]
    },
    {
      "cell_type": "markdown",
      "metadata": {
        "id": "SBIUHm0VrEh1"
      },
      "source": [
        "**Example 2: Using np.apply_along_axis to traverse a multi-dimensional array**"
      ]
    },
    {
      "cell_type": "code",
      "metadata": {
        "colab": {
          "base_uri": "https://localhost:8080/"
        },
        "id": "mzll_E2qrEh1",
        "outputId": "615035ab-5fa5-4e1e-8957-f4b2f2fe008d"
      },
      "source": [
        "# Create a 2D array representing sales in different regions (rows) over several days (columns)\n",
        "regional_sales = np.array([\n",
        "    [100, 200, 150],\n",
        "    [250, 300, 350],\n",
        "    [400, 450, 500]\n",
        "])\n",
        "\n",
        "# Define a lambda function that calculates the range (max - min) for each row\n",
        "range_func = lambda row: np.max(row) - np.min(row)\n",
        "\n",
        "# Apply the lambda function along axis 1 (each row)\n",
        "sales_range = np.apply_along_axis(range_func, 1, regional_sales)\n",
        "print(\"Sales range for each region:\", sales_range)"
      ],
      "execution_count": null,
      "outputs": [
        {
          "output_type": "stream",
          "name": "stdout",
          "text": [
            "Sales range for each region: [100 100 100]\n"
          ]
        }
      ]
    },
    {
      "cell_type": "markdown",
      "metadata": {
        "id": "23hTqW1DrEh1"
      },
      "source": [
        "### Reducing Data\n",
        "\n",
        "Reduction operations in NumPy aggregate data along an axis. Here are several examples beyond the standard sum, mean, and standard deviation:"
      ]
    },
    {
      "cell_type": "code",
      "metadata": {
        "colab": {
          "base_uri": "https://localhost:8080/"
        },
        "id": "3FizdJFerEh2",
        "outputId": "51865d7b-913c-436a-b213-15f5e8b17c3d"
      },
      "source": [
        "# Compute the total, mean, and standard deviation of sales\n",
        "total_sales = np.sum(sales)\n",
        "mean_sales = np.mean(sales)\n",
        "std_sales = np.std(sales)\n",
        "print(\"Total Sales:\", total_sales)\n",
        "print(\"Mean Sales:\", mean_sales)\n",
        "print(\"Standard Deviation of Sales:\", std_sales)\n",
        "\n",
        "# Additional reduction examples:\n",
        "\n",
        "# 1. Compute the product of all sales values\n",
        "product_sales = np.prod(sales)\n",
        "print(\"Product of Sales:\", product_sales)\n",
        "\n",
        "# 2. Find the minimum and maximum sales values\n",
        "min_sales = np.min(sales)\n",
        "max_sales = np.max(sales)\n",
        "print(\"Minimum Sales:\", min_sales)\n",
        "print(\"Maximum Sales:\", max_sales)\n",
        "\n",
        "# 3. Compute the median sales value\n",
        "median_sales = np.median(sales)\n",
        "print(\"Median Sales:\", median_sales)\n",
        "\n",
        "# 4. Compute the cumulative sum and cumulative product of sales\n",
        "cumulative_sales = np.cumsum(sales)\n",
        "cumulative_product = np.cumprod(sales)\n",
        "print(\"Cumulative Sales:\", cumulative_sales)\n",
        "print(\"Cumulative Product of Sales:\", cumulative_product)\n",
        "\n",
        "# 5. Compute the range of sales (difference between max and min)\n",
        "range_sales = max_sales - min_sales\n",
        "print(\"Range of Sales:\", range_sales)"
      ],
      "execution_count": null,
      "outputs": [
        {
          "output_type": "stream",
          "name": "stdout",
          "text": [
            "Total Sales: 1750\n",
            "Mean Sales: 250.0\n",
            "Standard Deviation of Sales: 100.0\n",
            "Product of Sales: 31500000000000000\n",
            "Minimum Sales: 100\n",
            "Maximum Sales: 400\n",
            "Median Sales: 250.0\n",
            "Cumulative Sales: [ 100  250  450  700 1000 1350 1750]\n",
            "Cumulative Product of Sales: [              100             15000           3000000         750000000\n",
            "      225000000000    78750000000000 31500000000000000]\n",
            "Range of Sales: 300\n"
          ]
        }
      ]
    },
    {
      "cell_type": "markdown",
      "metadata": {
        "id": "yiGvlK8crEh2"
      },
      "source": [
        "# Important NumPy Methods for Business Analytics\n",
        "\n",
        "NumPy's comprehensive suite of methods is invaluable in business analytics. Below are some methods and their potential applications:\n",
        "\n",
        "## **Aggregation Functions:**  \n",
        "\n",
        "The following NumPy methods are used to aggregate a NumPy array into a single value:\n",
        "  - `np.sum()`\n",
        "  - `np.mean()`\n",
        "  - `np.std()`\n",
        "  - `np.min()`\n",
        "  - `np.max()`\n",
        "  - `np.median()`\n",
        "\n",
        "## **Cumulative Operations:**  \n",
        "`np.cumsum()` computes the cumulative sum, which can be useful in tracking progressive sales or inventory levels."
      ]
    },
    {
      "cell_type": "code",
      "metadata": {
        "colab": {
          "base_uri": "https://localhost:8080/"
        },
        "id": "durKyek0rEh2",
        "outputId": "0809f502-64a8-45dc-f077-e620fc162898"
      },
      "source": [
        "cumulative_sales = np.cumsum(sales)\n",
        "print(\"Cumulative Sales:\", cumulative_sales)"
      ],
      "execution_count": null,
      "outputs": [
        {
          "output_type": "stream",
          "name": "stdout",
          "text": [
            "Cumulative Sales: [ 100  250  450  700 1000 1350 1750]\n"
          ]
        }
      ]
    },
    {
      "cell_type": "markdown",
      "metadata": {
        "id": "tLN-0Bi8rEh2"
      },
      "source": [
        "## **Difference Calculations:**  \n",
        "`np.diff()` computes the difference between consecutive elements, aiding in trend analysis."
      ]
    },
    {
      "cell_type": "code",
      "metadata": {
        "colab": {
          "base_uri": "https://localhost:8080/"
        },
        "id": "NYM0iX0YrEh2",
        "outputId": "ead6fbfb-4fd0-4f6e-d79f-e66cff7d2d84"
      },
      "source": [
        "sales_diff = np.diff(sales)\n",
        "print(\"Sales Differences:\", sales_diff)"
      ],
      "execution_count": null,
      "outputs": [
        {
          "output_type": "stream",
          "name": "stdout",
          "text": [
            "Sales Differences: [50 50 50 50 50 50]\n"
          ]
        }
      ]
    },
    {
      "cell_type": "markdown",
      "metadata": {
        "id": "BfN0-ITIrEh2"
      },
      "source": [
        "## **Reshaping Arrays:**  \n",
        "\n",
        "Below we demonstrate reshaping operations, including converting a 1D array into a 2D column array and extracting specific columns from a 2D array."
      ]
    },
    {
      "cell_type": "code",
      "metadata": {
        "colab": {
          "base_uri": "https://localhost:8080/"
        },
        "id": "Hf4XqyfkrEh8",
        "outputId": "a17615bd-160f-49f8-b98d-26da75a83578"
      },
      "source": [
        "# Assume 'sales' is a one-dimensional array of sales figures.\n",
        "sales = np.array([100, 150, 200, 250, 300])\n",
        "print(\"Original Sales (1D array):\\n\", sales)"
      ],
      "execution_count": null,
      "outputs": [
        {
          "output_type": "stream",
          "name": "stdout",
          "text": [
            "Original Sales (1D array):\n",
            " [100 150 200 250 300]\n"
          ]
        }
      ]
    },
    {
      "cell_type": "code",
      "metadata": {
        "colab": {
          "base_uri": "https://localhost:8080/"
        },
        "id": "cEF-ZUDlrEh8",
        "outputId": "1648e6b9-596e-4e02-cd7d-7849ce30eb42"
      },
      "source": [
        "# Reshape the one-dimensional array into a two-dimensional column array.\n",
        "reshaped_sales = sales.reshape(5, 1)\n",
        "print(\"Reshaped Sales (2D column array):\\n\", reshaped_sales)"
      ],
      "execution_count": null,
      "outputs": [
        {
          "output_type": "stream",
          "name": "stdout",
          "text": [
            "Reshaped Sales (2D column array):\n",
            " [[100]\n",
            " [150]\n",
            " [200]\n",
            " [250]\n",
            " [300]]\n"
          ]
        }
      ]
    },
    {
      "cell_type": "code",
      "metadata": {
        "colab": {
          "base_uri": "https://localhost:8080/"
        },
        "id": "TybyCQm_rEh8",
        "outputId": "15717c62-9488-4952-da33-2bafa636135e"
      },
      "source": [
        "# -------------------------------------------------------\n",
        "# Consider a 2D array with two columns.\n",
        "# For example, an array where each row contains a sales figure and a corresponding discount value.\n",
        "data = np.array([\n",
        "    [100, 10],\n",
        "    [150, 15],\n",
        "    [200, 20],\n",
        "    [250, 25],\n",
        "    [300, 30]\n",
        "])\n",
        "print(\"Original Data (2D array):\\n\", data)"
      ],
      "execution_count": null,
      "outputs": [
        {
          "output_type": "stream",
          "name": "stdout",
          "text": [
            "Original Data (2D array):\n",
            " [[100  10]\n",
            " [150  15]\n",
            " [200  20]\n",
            " [250  25]\n",
            " [300  30]]\n"
          ]
        }
      ]
    },
    {
      "cell_type": "code",
      "metadata": {
        "colab": {
          "base_uri": "https://localhost:8080/"
        },
        "id": "yXmIErI-rEh8",
        "outputId": "15703cbd-d322-4ead-a6ae-261a3832d91e"
      },
      "source": [
        "# Extract just the first column (sales) as a one-dimensional array.\n",
        "sales_column = data[:, 0]  # The ':' selects all rows; '0' selects the first column.\n",
        "print(\"Extracted Sales Column (1D array):\\n\", sales_column)"
      ],
      "execution_count": null,
      "outputs": [
        {
          "output_type": "stream",
          "name": "stdout",
          "text": [
            "Extracted Sales Column (1D array):\n",
            " [100 150 200 250 300]\n"
          ]
        }
      ]
    },
    {
      "cell_type": "code",
      "metadata": {
        "colab": {
          "base_uri": "https://localhost:8080/"
        },
        "id": "6Uq0n8uSrEh8",
        "outputId": "7f9047aa-7dd3-4080-ca06-c95cc8edbaef"
      },
      "source": [
        "# Similarly, extract the second column (discounts) as a one-dimensional array.\n",
        "discounts_column = data[:, 1]\n",
        "print(\"Extracted Discounts Column (1D array):\\n\", discounts_column)"
      ],
      "execution_count": null,
      "outputs": [
        {
          "output_type": "stream",
          "name": "stdout",
          "text": [
            "Extracted Discounts Column (1D array):\n",
            " [10 15 20 25 30]\n"
          ]
        }
      ]
    },
    {
      "cell_type": "markdown",
      "metadata": {
        "id": "tiihG1-MrEh8"
      },
      "source": [
        "## **Sorting Data:**  \n",
        "`np.sort()` can sort arrays, which is useful in identifying outliers or preparing data for further analysis."
      ]
    },
    {
      "cell_type": "code",
      "metadata": {
        "colab": {
          "base_uri": "https://localhost:8080/"
        },
        "id": "6Gy6TfdarEh8",
        "outputId": "70365eaf-5ed6-4f12-bd83-9ef987264389"
      },
      "source": [
        "sorted_sales = np.sort(sales)\n",
        "print(\"Sorted Sales:\", sorted_sales)"
      ],
      "execution_count": null,
      "outputs": [
        {
          "output_type": "stream",
          "name": "stdout",
          "text": [
            "Sorted Sales: [100 150 200 250 300]\n"
          ]
        }
      ]
    },
    {
      "cell_type": "markdown",
      "metadata": {
        "id": "oI5LLYZ6rEh8"
      },
      "source": [
        "## **Dot Product and Matrix Multiplication:**  \n",
        "For financial modeling and other analytical tasks, `np.dot()` and methods in `numpy.linalg` (such as `np.linalg.inv()` and `np.linalg.eig()`) are essential."
      ]
    },
    {
      "cell_type": "code",
      "metadata": {
        "colab": {
          "base_uri": "https://localhost:8080/"
        },
        "id": "8CjnB5IkrEh8",
        "outputId": "ee587695-9af5-41d7-9d0a-bf64830a3ed3"
      },
      "source": [
        "# Example of dot product between two arrays\n",
        "vector_a = np.array([1, 2, 3])\n",
        "vector_b = np.array([4, 5, 6])\n",
        "dot_product = np.dot(vector_a, vector_b)\n",
        "print(\"Dot Product:\", dot_product)"
      ],
      "execution_count": null,
      "outputs": [
        {
          "output_type": "stream",
          "name": "stdout",
          "text": [
            "Dot Product: 32\n"
          ]
        }
      ]
    },
    {
      "cell_type": "markdown",
      "metadata": {
        "id": "7JkIS9XkrEh8"
      },
      "source": [
        "# Data Persistence in NumPy and Beyond\n",
        "\n",
        "In business analytics, it is essential not only to process and analyze data but also to **persist** (i.e., save and later reload) your data for further processing, sharing, or archival purposes. In this section, we will explore three primary methods for data persistence:\n",
        "\n",
        "1. **NumPy's Native Binary Formats:**  \n",
        "   Utilizing NumPy’s own functions to save arrays in a binary format (.npy and .npz).\n",
        "\n",
        "2. **CSV Files:**  \n",
        "   Saving to and loading from comma-separated values (CSV) files, which are human-readable and widely used for data exchange.\n",
        "\n",
        "3. **MS Excel Spreadsheets:**  \n",
        "   Although NumPy does not directly support Excel formats, you can integrate with the pandas library to handle Excel files.\n",
        "\n",
        "Each method has its advantages and is appropriate for different scenarios.\n",
        "\n",
        "---\n",
        "\n",
        "## Saving and Loading with NumPy's Native Formats\n",
        "\n",
        "NumPy provides functions to efficiently save and load arrays in binary formats. These formats are highly efficient and preserve data type and shape information.\n",
        "\n",
        "### Saving a Single Array (.npy)"
      ]
    },
    {
      "cell_type": "code",
      "metadata": {
        "colab": {
          "base_uri": "https://localhost:8080/"
        },
        "id": "V4C7LYwQrEh8",
        "outputId": "50fcf4db-41b8-4ef3-ce6c-e9f04b62cba8"
      },
      "source": [
        "# Create a sample array\n",
        "sales = np.array([100, 150, 200, 250, 300, 225, 310, 485, 320, 190, 320, 276, 312, 378])\n",
        "\n",
        "# Save the array to a binary file\n",
        "np.save(\"sales.npy\", sales)\n",
        "print(\"Sales array saved to 'sales.npy'.\")"
      ],
      "execution_count": null,
      "outputs": [
        {
          "output_type": "stream",
          "name": "stdout",
          "text": [
            "Sales array saved to 'sales.npy'.\n"
          ]
        }
      ]
    },
    {
      "cell_type": "markdown",
      "metadata": {
        "id": "9Qh04cpUrEh8"
      },
      "source": [
        "### Loading a Single Array (.npy)"
      ]
    },
    {
      "cell_type": "code",
      "metadata": {
        "colab": {
          "base_uri": "https://localhost:8080/"
        },
        "id": "p6jXEE8OrEh8",
        "outputId": "c3481968-d5c6-44cc-a233-5b30c45f3f3f"
      },
      "source": [
        "# Load the array from the binary file\n",
        "loaded_sales = np.load(\"sales.npy\")\n",
        "print(\"Loaded Sales:\", loaded_sales)"
      ],
      "execution_count": null,
      "outputs": [
        {
          "output_type": "stream",
          "name": "stdout",
          "text": [
            "Loaded Sales: [100 150 200 250 300 225 310 485 320 190 320 276 312 378]\n"
          ]
        }
      ]
    },
    {
      "cell_type": "markdown",
      "metadata": {
        "id": "SoSrfFoVrEh8"
      },
      "source": [
        "### Saving Multiple Arrays (.npz)\n",
        "\n",
        "When you have multiple arrays, you can store them together in a compressed file using the `.npz` format."
      ]
    },
    {
      "cell_type": "code",
      "metadata": {
        "colab": {
          "base_uri": "https://localhost:8080/"
        },
        "id": "WdzII-aXrEh8",
        "outputId": "7fa52673-91df-4821-d86f-3bb6c184a643"
      },
      "source": [
        "# Create multiple arrays\n",
        "inventory = np.array([[10, 15, 20],\n",
        "                      [12, 18, 25],\n",
        "                      [14, 20, 30]])\n",
        "prices = np.array([19.99, 29.99, 39.99])\n",
        "\n",
        "# Save both arrays into a single .npz file\n",
        "np.savez(\"data.npz\", inventory=inventory, prices=prices)\n",
        "print(\"Inventory and prices arrays saved to 'data.npz'.\")"
      ],
      "execution_count": null,
      "outputs": [
        {
          "output_type": "stream",
          "name": "stdout",
          "text": [
            "Inventory and prices arrays saved to 'data.npz'.\n"
          ]
        }
      ]
    },
    {
      "cell_type": "markdown",
      "metadata": {
        "id": "WzfsNzfHrEh9"
      },
      "source": [
        "### Loading Multiple Arrays from a .npz File"
      ]
    },
    {
      "cell_type": "code",
      "metadata": {
        "colab": {
          "base_uri": "https://localhost:8080/"
        },
        "id": "g3aST-NArEh9",
        "outputId": "a16bd9b6-29ba-49ae-f28b-94fe8c9b8384"
      },
      "source": [
        "# Load the data from the .npz file\n",
        "data = np.load(\"data.npz\")\n",
        "loaded_inventory = data[\"inventory\"]\n",
        "loaded_prices = data[\"prices\"]\n",
        "\n",
        "print(\"Loaded Inventory:\\n\", loaded_inventory)\n",
        "print(\"Loaded Prices:\", loaded_prices)"
      ],
      "execution_count": null,
      "outputs": [
        {
          "output_type": "stream",
          "name": "stdout",
          "text": [
            "Loaded Inventory:\n",
            " [[10 15 20]\n",
            " [12 18 25]\n",
            " [14 20 30]]\n",
            "Loaded Prices: [19.99 29.99 39.99]\n"
          ]
        }
      ]
    },
    {
      "cell_type": "markdown",
      "metadata": {
        "id": "2_nMd2QXrEh9"
      },
      "source": [
        "---\n",
        "\n",
        "## Saving and Loading CSV Files\n",
        "\n",
        "CSV files are text-based and widely used for data sharing and interoperability with other applications. While CSV files are not as efficient as binary formats, they are human-readable and easily editable.\n",
        "\n",
        "### Saving an Array to a CSV File"
      ]
    },
    {
      "cell_type": "code",
      "metadata": {
        "colab": {
          "base_uri": "https://localhost:8080/"
        },
        "id": "5gJDxwhjrEh9",
        "outputId": "4fe9d5af-9408-4ac0-be82-04e5be68475e"
      },
      "source": [
        "# Save the sales array to a CSV file\n",
        "# Here, we include a header and use commas as delimiters.\n",
        "np.savetxt(\"sales.csv\", sales, fmt=\"%d\", delimiter=\",\", header=\"Sales Data\", comments=\"\")\n",
        "print(\"Sales array saved to 'sales.csv'.\")"
      ],
      "execution_count": null,
      "outputs": [
        {
          "output_type": "stream",
          "name": "stdout",
          "text": [
            "Sales array saved to 'sales.csv'.\n"
          ]
        }
      ]
    },
    {
      "cell_type": "markdown",
      "metadata": {
        "id": "i9JlLt2orEh9"
      },
      "source": [
        "### Loading an Array from a CSV File"
      ]
    },
    {
      "cell_type": "code",
      "metadata": {
        "colab": {
          "base_uri": "https://localhost:8080/"
        },
        "id": "iEg2-fzRrEh9",
        "outputId": "e4a9d5f4-31d3-4e85-e138-a58e05e0a093"
      },
      "source": [
        "# Load the sales array from the CSV file\n",
        "# The header row is skipped using the skiprows parameter.\n",
        "loaded_sales_csv = np.loadtxt(\"sales.csv\", delimiter=\",\", skiprows=1)\n",
        "print(\"Loaded Sales from CSV:\", loaded_sales_csv)"
      ],
      "execution_count": null,
      "outputs": [
        {
          "output_type": "stream",
          "name": "stdout",
          "text": [
            "Loaded Sales from CSV: [100. 150. 200. 250. 300. 225. 310. 485. 320. 190. 320. 276. 312. 378.]\n"
          ]
        }
      ]
    },
    {
      "cell_type": "markdown",
      "metadata": {
        "id": "Dnebt-mBrEh9"
      },
      "source": [
        "---\n",
        "\n",
        "## Working with MS Excel Spreadsheets\n",
        "\n",
        "While NumPy does not have built-in support for Excel files, the **pandas** library offers robust functionality for reading from and writing to Excel spreadsheets. Once the data is loaded into a pandas DataFrame, you can convert it to a NumPy array if needed.\n",
        "\n",
        "### Saving Data to an Excel File using pandas"
      ]
    },
    {
      "cell_type": "code",
      "metadata": {
        "colab": {
          "base_uri": "https://localhost:8080/"
        },
        "id": "8Jk75T74rEh9",
        "outputId": "c12d886d-ec67-499c-f21e-7454bea34eca"
      },
      "source": [
        "import pandas as pd\n",
        "\n",
        "# Create a pandas DataFrame from the sales array\n",
        "sales_df = pd.DataFrame(sales, columns=[\"Sales\"])\n",
        "# Write the DataFrame to an Excel file (requires openpyxl: pip install openpyxl)\n",
        "sales_df.to_excel(\"sales.xlsx\", index=False, sheet_name=\"SalesData\")\n",
        "print(\"Sales data saved to 'sales.xlsx'.\")"
      ],
      "execution_count": null,
      "outputs": [
        {
          "output_type": "stream",
          "name": "stdout",
          "text": [
            "Sales data saved to 'sales.xlsx'.\n"
          ]
        }
      ]
    },
    {
      "cell_type": "markdown",
      "metadata": {
        "id": "6JtvKyaTrEh9"
      },
      "source": [
        "### Loading Data from an Excel File using pandas"
      ]
    },
    {
      "cell_type": "code",
      "metadata": {
        "colab": {
          "base_uri": "https://localhost:8080/"
        },
        "id": "DB3G7VxarEh9",
        "outputId": "17d01a77-9c2b-46b2-cfb7-40acea057672"
      },
      "source": [
        "# Read the Excel file into a DataFrame\n",
        "df = pd.read_excel(\"sales.xlsx\", sheet_name=\"SalesData\")\n",
        "# Convert the DataFrame to a NumPy array if necessary\n",
        "sales_from_excel = df.to_numpy()\n",
        "print(\"Sales data loaded from Excel:\\n\", sales_from_excel)"
      ],
      "execution_count": null,
      "outputs": [
        {
          "output_type": "stream",
          "name": "stdout",
          "text": [
            "Sales data loaded from Excel:\n",
            " [[100]\n",
            " [150]\n",
            " [200]\n",
            " [250]\n",
            " [300]\n",
            " [225]\n",
            " [310]\n",
            " [485]\n",
            " [320]\n",
            " [190]\n",
            " [320]\n",
            " [276]\n",
            " [312]\n",
            " [378]]\n"
          ]
        }
      ]
    },
    {
      "cell_type": "markdown",
      "metadata": {
        "id": "kFM7e_YDrEh9"
      },
      "source": [
        "---\n",
        "\n",
        "# Real-World Applications in Business Analytics\n",
        "\n",
        "To consolidate the concepts learned today, consider the following business cases where NumPy plays a critical role.\n",
        "\n",
        "## Sales and Revenue Analysis\n",
        "\n",
        "Imagine a retail company analyzing daily sales data:"
      ]
    },
    {
      "cell_type": "code",
      "metadata": {
        "colab": {
          "base_uri": "https://localhost:8080/"
        },
        "id": "kqYwYrvYrEh9",
        "outputId": "2f8a4baa-7b6a-48b6-8e3f-a3bca150e299"
      },
      "source": [
        "# Daily units sold over one week\n",
        "daily_units = np.array([120, 135, 150, 145, 160, 155, 170])\n",
        "price_per_unit = 19.99\n",
        "\n",
        "# Calculate daily revenue using vectorized multiplication\n",
        "daily_revenue = daily_units * price_per_unit\n",
        "print(\"Daily Revenue:\", daily_revenue)\n",
        "\n",
        "# Total revenue over the week\n",
        "weekly_revenue = np.sum(daily_revenue)\n",
        "print(\"Weekly Revenue:\", weekly_revenue)"
      ],
      "execution_count": null,
      "outputs": [
        {
          "output_type": "stream",
          "name": "stdout",
          "text": [
            "Daily Revenue: [2398.8  2698.65 2998.5  2898.55 3198.4  3098.45 3398.3 ]\n",
            "Weekly Revenue: 20689.649999999998\n"
          ]
        }
      ]
    },
    {
      "cell_type": "markdown",
      "metadata": {
        "id": "fgZ8usNJrEh9"
      },
      "source": [
        "## Inventory Management\n",
        "\n",
        "For multi-store inventory management, NumPy aids in aggregating and analyzing inventory levels:"
      ]
    },
    {
      "cell_type": "code",
      "metadata": {
        "colab": {
          "base_uri": "https://localhost:8080/"
        },
        "id": "0JaKLAOHrEh9",
        "outputId": "aaa38a58-f8e0-4455-c921-0f36977245fd"
      },
      "source": [
        "# Inventory levels for three stores and three product categories\n",
        "inventory_levels = np.array([[100, 150, 200],\n",
        "                             [120, 130, 210],\n",
        "                             [110, 160, 190]])\n",
        "\n",
        "# Total inventory per store (summing along columns)\n",
        "store_totals = np.sum(inventory_levels, axis=1)\n",
        "print(\"Inventory Totals per Store:\", store_totals)\n",
        "\n",
        "# Total inventory per product category (summing along rows)\n",
        "category_totals = np.sum(inventory_levels, axis=0)\n",
        "print(\"Inventory Totals per Category:\", category_totals)"
      ],
      "execution_count": null,
      "outputs": [
        {
          "output_type": "stream",
          "name": "stdout",
          "text": [
            "Inventory Totals per Store: [450 460 460]\n",
            "Inventory Totals per Category: [330 440 600]\n"
          ]
        }
      ]
    },
    {
      "cell_type": "markdown",
      "metadata": {
        "id": "nXIPrHd-rEh9"
      },
      "source": [
        "## Financial Modeling\n",
        "\n",
        "Consider a scenario where you analyze asset returns to compute a covariance matrix—an essential component in portfolio risk analysis:"
      ]
    },
    {
      "cell_type": "code",
      "metadata": {
        "colab": {
          "base_uri": "https://localhost:8080/"
        },
        "id": "YASWCFeKrEh9",
        "outputId": "52f05a94-8838-4db1-a4e1-dd6827e73aa1"
      },
      "source": [
        "# Returns of two assets over several periods\n",
        "returns = np.array([[0.05, 0.07, 0.06, 0.04],\n",
        "                    [0.02, 0.03, 0.025, 0.035]])\n",
        "covariance_matrix = np.cov(returns)\n",
        "print(\"Covariance Matrix:\\n\", covariance_matrix)"
      ],
      "execution_count": null,
      "outputs": [
        {
          "output_type": "stream",
          "name": "stdout",
          "text": [
            "Covariance Matrix:\n",
            " [[ 1.66666667e-04 -1.66666667e-05]\n",
            " [-1.66666667e-05  4.16666667e-05]]\n"
          ]
        }
      ]
    },
    {
      "cell_type": "markdown",
      "metadata": {
        "id": "XVjfpkRTrEh9"
      },
      "source": [
        "# Conclusion\n",
        "\n",
        "Today’s lecture provided a detailed introduction to NumPy, underscoring its importance in the realm of business analytics and data science. We began by comparing NumPy arrays with standard Python data structures, highlighting the need for efficiency and advanced operations. We then covered practical aspects such as installation (both locally and on Google Colab), importing the library, and various methods for creating, accessing, and processing data with NumPy. In addition, we explored techniques for mapping, filtering, and reducing data, and discussed several key functions essential for business analytics.\n",
        "\n",
        "Furthermore, we introduced methods for persisting your work by loading and saving NumPy arrays using both binary and CSV file formats. Although NumPy does not directly support MS Excel spreadsheets, you can easily handle Excel data with the help of pandas.\n",
        "\n",
        "I encourage you to experiment with these techniques and explore further how NumPy integrates with other libraries (such as pandas and scikit-learn) to create a powerful analytics toolkit. For additional reading and practice, please consult the [NumPy Official Documentation](https://numpy.org/doc/) and other recommended resources.\n",
        "\n",
        "---\n",
        "\n",
        "*Dr. Tim C. Smith ©️2025*  \n",
        "\n",
        "*University of South Florida, ISM4641 Python for Business Analytics*\n",
        "\n",
        "---"
      ]
    }
  ],
  "metadata": {
    "kernelspec": {
      "name": "python3",
      "language": "python",
      "display_name": "Python 3 (ipykernel)",
      "path": "/home/tim/miniconda3/envs/pba/share/jupyter/kernels/python3"
    },
    "colab": {
      "provenance": [],
      "include_colab_link": true
    }
  },
  "nbformat": 4,
  "nbformat_minor": 0
}